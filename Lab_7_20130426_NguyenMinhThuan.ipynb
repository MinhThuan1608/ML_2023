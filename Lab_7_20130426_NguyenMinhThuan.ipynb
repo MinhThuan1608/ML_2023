{
  "nbformat": 4,
  "nbformat_minor": 0,
  "metadata": {
    "colab": {
      "provenance": [],
      "include_colab_link": true
    },
    "kernelspec": {
      "name": "python3",
      "display_name": "Python 3"
    },
    "language_info": {
      "name": "python"
    }
  },
  "cells": [
    {
      "cell_type": "markdown",
      "metadata": {
        "id": "view-in-github",
        "colab_type": "text"
      },
      "source": [
        "<a href=\"https://colab.research.google.com/github/MinhThuan1608/ML_2023/blob/main/Lab_7_20130426_NguyenMinhThuan.ipynb\" target=\"_parent\"><img src=\"https://colab.research.google.com/assets/colab-badge.svg\" alt=\"Open In Colab\"/></a>"
      ]
    },
    {
      "cell_type": "markdown",
      "source": [
        "# This lab deals with **cross validation** for some classification algorithms and **clustering methods**. \n",
        "\n",
        "*   **Deadline: 23:59, 10/4/2023**\n",
        "\n"
      ],
      "metadata": {
        "id": "LMzehe0sy5wr"
      }
    },
    {
      "cell_type": "markdown",
      "source": [
        "# Import libraries"
      ],
      "metadata": {
        "id": "H4nJmxp9zGX4"
      }
    },
    {
      "cell_type": "code",
      "execution_count": 1,
      "metadata": {
        "id": "DoVWQ8AEyc-C",
        "colab": {
          "base_uri": "https://localhost:8080/"
        },
        "outputId": "b9ff6c67-ddb3-4a66-f225-ff72a721ecb0"
      },
      "outputs": [
        {
          "output_type": "stream",
          "name": "stdout",
          "text": [
            "Drive already mounted at /content/gdrive; to attempt to forcibly remount, call drive.mount(\"/content/gdrive\", force_remount=True).\n",
            "/content/gdrive/MyDrive/ml\n"
          ]
        }
      ],
      "source": [
        "# code\n",
        "from sklearn import datasets\n",
        "from sklearn.model_selection import train_test_split\n",
        "from sklearn import metrics\n",
        "from sklearn.ensemble import RandomForestClassifier\n",
        "from sklearn.tree import DecisionTreeClassifier\n",
        "from sklearn.naive_bayes import GaussianNB\n",
        "from sklearn import svm\n",
        "from prettytable import PrettyTable\n",
        "from sklearn.feature_selection import SelectKBest\n",
        "from sklearn.feature_selection import chi2\n",
        "from sklearn.feature_selection import f_classif\n",
        "from google.colab import drive\n",
        "drive.mount('/content/gdrive')\n",
        "%cd '/content/gdrive/MyDrive/ml'\n",
        "import pandas as pd\n",
        "from sklearn.model_selection import cross_validate\n",
        "from sklearn.model_selection import KFold\n",
        "from sklearn.model_selection import cross_val_score\n",
        "import numpy as np\n",
        "from sklearn.cluster import KMeans\n",
        "from scipy.stats import mode\n",
        "from sklearn.neighbors import KNeighborsClassifier\n",
        "from sklearn.cluster import AgglomerativeClustering\n",
        "from matplotlib import pyplot as plt\n",
        "from sklearn.datasets import load_iris\n",
        "from scipy.cluster.hierarchy import dendrogram, linkage\n",
        "import scipy.cluster.hierarchy as shc"
      ]
    },
    {
      "cell_type": "markdown",
      "source": [
        "#Task 1. With **iris** dataset\n",
        "*  1.1. Apply **SVM** algorithm with cross validation\n"
      ],
      "metadata": {
        "id": "x_dG9SA5OhGT"
      }
    },
    {
      "cell_type": "code",
      "source": [
        "#code\n",
        "data = datasets.load_iris()\n",
        "X = data.data\n",
        "y = data.target\n",
        "clf = svm.SVC(kernel=\"sigmoid\", random_state=0)\n",
        "scores = cross_validate(clf, X, y, scoring='accuracy', cv=10)\n",
        "print(sorted(scores.keys()))\n",
        "print(np.mean(scores['test_score']))"
      ],
      "metadata": {
        "id": "62jExOZ952fF",
        "colab": {
          "base_uri": "https://localhost:8080/"
        },
        "outputId": "9b3297a7-3cef-4f87-8568-057b16444b97"
      },
      "execution_count": 2,
      "outputs": [
        {
          "output_type": "stream",
          "name": "stdout",
          "text": [
            "['fit_time', 'score_time', 'test_score']\n",
            "0.06666666666666668\n"
          ]
        }
      ]
    },
    {
      "cell_type": "markdown",
      "source": [
        "*  1.2 Apply **feature selection** to the dataset and then use **RandomForest** algorithm with cross validation "
      ],
      "metadata": {
        "id": "2g--8cng53sY"
      }
    },
    {
      "cell_type": "code",
      "source": [
        "#code\n",
        "X = SelectKBest(chi2, k=4).fit_transform(X, y)\n",
        "X_train, X_test, y_train, y_test = train_test_split(X, y, test_size = 0.2, random_state = 1)\n",
        "\n",
        "clf = RandomForestClassifier(n_estimators=100)\n",
        "scores = cross_validate(clf, X_train, y_train, scoring='accuracy', cv=10)\n",
        "print(sorted(scores.keys()))\n",
        "print(np.mean(scores['test_score']))"
      ],
      "metadata": {
        "id": "fX0_kItYPism",
        "colab": {
          "base_uri": "https://localhost:8080/"
        },
        "outputId": "6a937666-fb6e-4346-8d49-27684a6d629a"
      },
      "execution_count": 3,
      "outputs": [
        {
          "output_type": "stream",
          "name": "stdout",
          "text": [
            "['fit_time', 'score_time', 'test_score']\n",
            "0.9333333333333332\n"
          ]
        }
      ]
    },
    {
      "cell_type": "markdown",
      "source": [
        "#Task 2. With mnist dataset: \n",
        "*   2.1. Apply **K-Means** algorithm using k=10, "
      ],
      "metadata": {
        "id": "kNv07ARGzOUm"
      }
    },
    {
      "cell_type": "code",
      "source": [
        "# code\n",
        "dataset = datasets.load_digits()\n",
        "\n",
        "kmeans = KMeans(n_clusters = 10, n_init=10, random_state = 0)\n",
        "kmeans.fit(dataset.data)\n",
        "clusters = kmeans.predict(dataset.data)\n",
        "\n",
        "print(kmeans.cluster_centers_.shape)\n",
        "\n",
        "labels = np.zeros_like(clusters)\n",
        "for i in range(3):\n",
        "  mask = (clusters == i)\n",
        "  labels[mask] = mode(dataset.target[mask])[0]\n",
        "acc1 = metrics.accuracy_score(dataset.target, labels)\n",
        "pre1 = metrics.precision_score(dataset.target, labels, average='macro')\n",
        "rec1 = metrics.recall_score(dataset.target, labels, average='macro')\n",
        "f11 = metrics.f1_score(dataset.target, labels, average='macro')\n",
        "print(acc1)"
      ],
      "metadata": {
        "id": "sOsg77IBzEyo",
        "colab": {
          "base_uri": "https://localhost:8080/"
        },
        "outputId": "093107d4-32a5-4831-f906-94344b25955c"
      },
      "execution_count": 4,
      "outputs": [
        {
          "output_type": "stream",
          "name": "stdout",
          "text": [
            "(10, 64)\n",
            "0.35058430717863104\n"
          ]
        },
        {
          "output_type": "stream",
          "name": "stderr",
          "text": [
            "<ipython-input-4-7f8617585de3>:13: FutureWarning: Unlike other reduction functions (e.g. `skew`, `kurtosis`), the default behavior of `mode` typically preserves the axis it acts along. In SciPy 1.11.0, this behavior will change: the default value of `keepdims` will become False, the `axis` over which the statistic is taken will be eliminated, and the value None will no longer be accepted. Set `keepdims` to True or False to avoid this warning.\n",
            "  labels[mask] = mode(dataset.target[mask])[0]\n",
            "/usr/local/lib/python3.9/dist-packages/sklearn/metrics/_classification.py:1344: UndefinedMetricWarning: Precision is ill-defined and being set to 0.0 in labels with no predicted samples. Use `zero_division` parameter to control this behavior.\n",
            "  _warn_prf(average, modifier, msg_start, len(result))\n"
          ]
        }
      ]
    },
    {
      "cell_type": "markdown",
      "source": [
        "*   2.2. Compare the obtained result with with other classification algorithms such as **Randomforest**, **kNN**, and **Naïve Bayes** in terms of accuracy, precision, recall, f1 using cross validation. \n"
      ],
      "metadata": {
        "id": "pnoVB8J4vV36"
      }
    },
    {
      "cell_type": "code",
      "source": [
        "# code\n",
        "X_train, X_test, y_train, y_test = train_test_split(dataset.data, dataset.target, test_size = 0.1, shuffle=True, random_state = 1)\n",
        "\n",
        "clf = RandomForestClassifier(n_estimators=100)\n",
        "acc2 = cross_validate(clf, X_train, y_train, scoring='accuracy', cv=10)\n",
        "pre2 = cross_validate(clf, X_train, y_train, scoring='precision_macro', cv=10)\n",
        "rec2 = cross_validate(clf, X_train, y_train, scoring='recall_macro', cv=10)\n",
        "f12 = cross_validate(clf, X_train, y_train, scoring='f1_macro', cv=10)\n",
        "\n",
        "clf = KNeighborsClassifier(n_neighbors=3)\n",
        "acc3 = cross_validate(clf, X_train, y_train, scoring='accuracy', cv=10)\n",
        "pre3 = cross_validate(clf, X_train, y_train, scoring='precision_macro', cv=10)\n",
        "rec3 = cross_validate(clf, X_train, y_train, scoring='recall_macro', cv=10)\n",
        "f13 = cross_validate(clf, X_train, y_train, scoring='f1_macro', cv=10)\n",
        "\n",
        "clf = GaussianNB()\n",
        "acc4 = cross_validate(clf, X_train, y_train, scoring='accuracy', cv=10)\n",
        "pre4 = cross_validate(clf, X_train, y_train, scoring='precision_macro', cv=10)\n",
        "rec4 = cross_validate(clf, X_train, y_train, scoring='recall_macro', cv=10)\n",
        "f14 = cross_validate(clf, X_train, y_train, scoring='f1_macro', cv=10)\n",
        "\n",
        "accs = ['kmeans',acc1, np.mean(acc2['test_score']), np.mean(acc3['test_score']), np.mean(acc4['test_score'])]\n",
        "pres = ['RandomForest',pre1, np.mean(pre2['test_score']), np.mean(pre3['test_score']), np.mean(pre4['test_score'])]\n",
        "recs = ['kNN',rec1, np.mean(rec2['test_score']), np.mean(rec3['test_score']), np.mean(rec4['test_score'])]\n",
        "f1s = ['NaiveBayes',f11, np.mean(f12['test_score']), np.mean(f13['test_score']), np.mean(f14['test_score'])]\n",
        "\n",
        "t = PrettyTable(['algorithsm','accuracy','precision','recall','f1'])\n",
        "t.add_row(accs)\n",
        "t.add_row(pres)\n",
        "t.add_row(recs)\n",
        "t.add_row(f1s)\n",
        "\n",
        "print(t)\n"
      ],
      "metadata": {
        "id": "-ZTSvsJdvYqI",
        "colab": {
          "base_uri": "https://localhost:8080/"
        },
        "outputId": "87d0e8e8-5af8-456c-9d98-2fc2c83a9ab1"
      },
      "execution_count": 5,
      "outputs": [
        {
          "output_type": "stream",
          "name": "stdout",
          "text": [
            "+--------------+---------------------+--------------------+--------------------+--------------------+\n",
            "|  algorithsm  |       accuracy      |     precision      |       recall       |         f1         |\n",
            "+--------------+---------------------+--------------------+--------------------+--------------------+\n",
            "|    kmeans    | 0.35058430717863104 | 0.9709263093321064 | 0.9857871328885821 | 0.8540487692661605 |\n",
            "| RandomForest | 0.29052077194767334 | 0.9756937833837988 | 0.9869674492604059 | 0.8768790624337299 |\n",
            "|     kNN      | 0.34837173105573116 | 0.9736299019607844 | 0.985950980392157  | 0.8544191176470587 |\n",
            "|  NaiveBayes  |  0.2857716726929039 | 0.9765557778816794 | 0.9859810761379417 | 0.854355314899748  |\n",
            "+--------------+---------------------+--------------------+--------------------+--------------------+\n"
          ]
        }
      ]
    },
    {
      "cell_type": "markdown",
      "source": [
        "*   2.3. From the obtained results, **which approach is better** for this problem: Supervised learning or Unsupervised learning?"
      ],
      "metadata": {
        "id": "uyey-ndXvZlb"
      }
    },
    {
      "cell_type": "code",
      "source": [
        "#code\n",
        "print('kmeans')"
      ],
      "metadata": {
        "id": "Qzh_D-rgvbv9",
        "colab": {
          "base_uri": "https://localhost:8080/"
        },
        "outputId": "e17c4509-d9e7-4f30-a2ee-4dc96baa6c04"
      },
      "execution_count": 6,
      "outputs": [
        {
          "output_type": "stream",
          "name": "stdout",
          "text": [
            "kmeans\n"
          ]
        }
      ]
    },
    {
      "cell_type": "markdown",
      "source": [
        "2.4. Apply **AgglomerativeClustering** algorithm to mnist dataset using the number of clusters is 10"
      ],
      "metadata": {
        "id": "ol1U_T_NvcqV"
      }
    },
    {
      "cell_type": "code",
      "source": [
        "#code\n",
        "cluster = AgglomerativeClustering(n_clusters=10, affinity='euclidean', linkage='ward')\n",
        "cluster.fit_predict(dataset.data)\n"
      ],
      "metadata": {
        "colab": {
          "base_uri": "https://localhost:8080/"
        },
        "id": "pYITEqsnIqS7",
        "outputId": "dee3ea87-8e30-44c3-ba18-0fd655ab2770"
      },
      "execution_count": 7,
      "outputs": [
        {
          "output_type": "stream",
          "name": "stderr",
          "text": [
            "/usr/local/lib/python3.9/dist-packages/sklearn/cluster/_agglomerative.py:983: FutureWarning: Attribute `affinity` was deprecated in version 1.2 and will be removed in 1.4. Use `metric` instead\n",
            "  warnings.warn(\n"
          ]
        },
        {
          "output_type": "execute_result",
          "data": {
            "text/plain": [
              "array([7, 9, 4, ..., 4, 1, 4])"
            ]
          },
          "metadata": {},
          "execution_count": 7
        }
      ]
    },
    {
      "cell_type": "markdown",
      "source": [
        "#Task 3. \n",
        "For given dataset (shopping-data.csv) including 5 attributes: **CustomerID**, **Genre**, **Age**, **Annual Income**, and **Spending Score**.\n",
        "*   3.1. Using the **scipy library** to create the dendrograms for the given dataset (remember drop categorical attributes: **CustomerID**, **Genre**)\n",
        "\n",
        "\n",
        "\n"
      ],
      "metadata": {
        "id": "b52OPWPD2afi"
      }
    },
    {
      "cell_type": "code",
      "source": [
        "#code\n",
        "data = pd.read_csv(\"shopping-data.csv\")\n",
        "plt.figure(figsize=(10, 7))\n",
        "plt.title(\"Shopping Dendrograms\")\n",
        "dend = shc.dendrogram(shc.linkage(data.iloc[:, 2:5], method='ward'))"
      ],
      "metadata": {
        "id": "YYY2dLtH3P8H",
        "colab": {
          "base_uri": "https://localhost:8080/",
          "height": 621
        },
        "outputId": "84bcc8dd-a4b5-4bde-b4ea-7c264ebfeef3"
      },
      "execution_count": 8,
      "outputs": [
        {
          "output_type": "display_data",
          "data": {
            "text/plain": [
              "<Figure size 1000x700 with 1 Axes>"
            ],
            "image/png": "[encoded data removed]"
          },
          "metadata": {}
        }
      ]
    },
    {
      "cell_type": "markdown",
      "source": [
        "*   3.2. Apply K-Means to the preprocessed dataset with k belongs to [2,10]. Then compute SSE values and plot them to find the best value of k."
      ],
      "metadata": {
        "id": "eHlh_dWUyEMr"
      }
    },
    {
      "cell_type": "code",
      "source": [
        "#code\n",
        "sse = []\n",
        "ks = (2,11)\n",
        "for k in range(2,11):\n",
        "  kmeans = KMeans(n_clusters = i, n_init=10, random_state = 0)\n",
        "  kmeans.fit(data.iloc[:, 2:5])\n",
        "  sse.append(kmeans.inertia_)\n",
        "print(sse)\n",
        "\n"
      ],
      "metadata": {
        "id": "8vx3mfIidu4P",
        "colab": {
          "base_uri": "https://localhost:8080/"
        },
        "outputId": "2a02564d-d63a-4a97-c657-9c1053e125ea"
      },
      "execution_count": 11,
      "outputs": [
        {
          "output_type": "stream",
          "name": "stdout",
          "text": [
            "[212840.1698209719, 212840.1698209719, 212840.1698209719, 212840.1698209719, 212840.1698209719, 212840.1698209719, 212840.1698209719, 212840.1698209719, 212840.1698209719]\n"
          ]
        }
      ]
    },
    {
      "cell_type": "markdown",
      "source": [
        "*   3.2. From the obtained dengrograms, choose an appropriate number of clusters and apply **AgglomerativeClustering** algorithm to the given dataset"
      ],
      "metadata": {
        "id": "RJpsTIiyv-1h"
      }
    },
    {
      "cell_type": "code",
      "source": [
        "#code"
      ],
      "metadata": {
        "id": "5ZE7A0Au1Pg0"
      },
      "execution_count": null,
      "outputs": []
    },
    {
      "cell_type": "markdown",
      "source": [
        "#Finally,\n",
        "Save a copy in your Github. Remember renaming the notebook."
      ],
      "metadata": {
        "id": "Ok7RGkea_b7n"
      }
    }
  ]
}