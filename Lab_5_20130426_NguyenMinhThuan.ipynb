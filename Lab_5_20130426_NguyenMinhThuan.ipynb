{
  "nbformat": 4,
  "nbformat_minor": 0,
  "metadata": {
    "colab": {
      "provenance": [],
      "include_colab_link": true
    },
    "kernelspec": {
      "name": "python3",
      "display_name": "Python 3"
    },
    "language_info": {
      "name": "python"
    }
  },
  "cells": [
    {
      "cell_type": "markdown",
      "metadata": {
        "id": "view-in-github",
        "colab_type": "text"
      },
      "source": [
        "<a href=\"https://colab.research.google.com/github/MinhThuan1608/ML_2023/blob/main/Lab_5_20130426_NguyenMinhThuan.ipynb\" target=\"_parent\"><img src=\"https://colab.research.google.com/assets/colab-badge.svg\" alt=\"Open In Colab\"/></a>"
      ]
    },
    {
      "cell_type": "markdown",
      "source": [
        "# This lab is to deal with **SVM** to classification tasks and compare its performance with other competitive algorithms. In general, **SVM** is one of the most popular and widely used supervised machine learning algorithms.\n",
        "\n",
        "*   **Deadline: 23:59, 17/03/2023**\n",
        "\n"
      ],
      "metadata": {
        "id": "LMzehe0sy5wr"
      }
    },
    {
      "cell_type": "markdown",
      "source": [
        "# Import libraries"
      ],
      "metadata": {
        "id": "H4nJmxp9zGX4"
      }
    },
    {
      "cell_type": "code",
      "execution_count": 2,
      "metadata": {
        "id": "DoVWQ8AEyc-C",
        "colab": {
          "base_uri": "https://localhost:8080/"
        },
        "outputId": "85d7e60e-c392-4057-c3a1-d982278fc331"
      },
      "outputs": [
        {
          "output_type": "stream",
          "name": "stdout",
          "text": [
            "Mounted at /content/gdrive\n",
            "/content/gdrive/MyDrive/ml\n"
          ]
        }
      ],
      "source": [
        "# code\n",
        "import sklearn\n",
        "from sklearn import datasets\n",
        "from sklearn import svm\n",
        "from sklearn.model_selection import train_test_split\n",
        "from sklearn.linear_model import LogisticRegression\n",
        "from sklearn.neighbors import KNeighborsClassifier\n",
        "from prettytable import PrettyTable\n",
        "from sklearn.metrics import accuracy_score\n",
        "from sklearn import metrics\n",
        "from sklearn.tree import DecisionTreeClassifier\n",
        "from google.colab import drive\n",
        "drive.mount('/content/gdrive')\n",
        "%cd '/content/gdrive/MyDrive/ml'\n",
        "import pandas as pd\n"
      ]
    },
    {
      "cell_type": "markdown",
      "source": [
        "#Task 1. \n",
        "For breast cancer dataset (https://tinyurl.com/3vme8hr3) which could be loaded from datasets in sklearn as follows:\n",
        "\n",
        "```\n",
        "#Import scikit-learn dataset library\n",
        "from sklearn import datasets\n",
        "\n",
        "#Load dataset\n",
        "cancer = datasets.load_breast_cancer()\n",
        "```\n",
        "\n",
        "*   1.1.\tApply SVM algorithm to above dataset using linear kernel.\n",
        "*   1.2.\tCompare the obtained results with other competitive algorithms (Logistic Regression, Decision Tree, kNN) based on metrics: accuracy, precision, recall, f1 measures.\n",
        "\n"
      ],
      "metadata": {
        "id": "kNv07ARGzOUm"
      }
    },
    {
      "cell_type": "code",
      "source": [
        "# code\n",
        "cancer = datasets.load_breast_cancer()\n",
        "X = cancer.data\n",
        "Y = cancer.target\n",
        "X_train, X_test, y_train, y_test = train_test_split(X, Y, test_size = 0.2, random_state = 1)\n",
        "\n",
        "clf = svm.SVC(kernel='linear') \n",
        "clf.fit(X_train, y_train)\n",
        "y_pred = clf.predict(X_test)\n",
        "\n",
        "classifier = LogisticRegression(random_state = 0) \n",
        "classifier.fit(X_train, y_train)\n",
        "y_pred2 = classifier.predict(X_test)\n",
        "\n",
        "model = KNeighborsClassifier(n_neighbors=3)\n",
        "model.fit(X_train,y_train)\n",
        "y_pred3 = model.predict(X_test)\n",
        "\n",
        "dtc = DecisionTreeClassifier(random_state=0)\n",
        "dtc.fit(X_train, y_train)\n",
        "y_pred4 = dtc.predict(X_test)\n",
        "\n",
        "\n",
        "t = PrettyTable(['algorithms','accuracy'])\n",
        "t.add_row(['SVM',accuracy_score(y_test, y_pred)])\n",
        "t.add_row(['Logistic Regression',accuracy_score(y_test, y_pred2)])\n",
        "t.add_row(['kNN',accuracy_score(y_test, y_pred3)])\n",
        "t.add_row(['decision tree',accuracy_score(y_test, y_pred4)])\n",
        "print(t)\n",
        "\n",
        "t = PrettyTable(['algorithms','precision'])\n",
        "t.add_row(['SVM',metrics.precision_score(y_test, y_pred, average='macro')])\n",
        "t.add_row(['Logistic Regression',metrics.precision_score(y_test, y_pred2, average='macro')])\n",
        "t.add_row(['kNN',metrics.precision_score(y_test, y_pred3, average='macro')])\n",
        "t.add_row(['decision tree',metrics.precision_score(y_test, y_pred4, average='macro')])\n",
        "print(t)\n",
        "\n",
        "t = PrettyTable(['algorithms','recall'])\n",
        "t.add_row(['SVM',metrics.recall_score(y_test, y_pred, average='macro')])\n",
        "t.add_row(['Logistic Regression',metrics.recall_score(y_test, y_pred2, average='macro')])\n",
        "t.add_row(['kNN',metrics.recall_score(y_test, y_pred3, average='macro')])\n",
        "t.add_row(['decision tree',metrics.recall_score(y_test, y_pred4, average='macro')])\n",
        "print(t)\n",
        "\n",
        "t = PrettyTable(['algorithms','f1'])\n",
        "t.add_row(['SVM',metrics.f1_score(y_test, y_pred, average='macro')])\n",
        "t.add_row(['Logistic Regression',metrics.f1_score(y_test, y_pred2, average='macro')])\n",
        "t.add_row(['kNN',metrics.f1_score(y_test, y_pred3, average='macro')])\n",
        "t.add_row(['decision tree',metrics.f1_score(y_test, y_pred4, average='macro')])\n",
        "print(t)"
      ],
      "metadata": {
        "id": "sOsg77IBzEyo",
        "colab": {
          "base_uri": "https://localhost:8080/"
        },
        "outputId": "1781ab93-52d9-4fa7-93e1-29364b1abe54"
      },
      "execution_count": 3,
      "outputs": [
        {
          "output_type": "stream",
          "name": "stderr",
          "text": [
            "/usr/local/lib/python3.9/dist-packages/sklearn/linear_model/_logistic.py:458: ConvergenceWarning: lbfgs failed to converge (status=1):\n",
            "STOP: TOTAL NO. of ITERATIONS REACHED LIMIT.\n",
            "\n",
            "Increase the number of iterations (max_iter) or scale the data as shown in:\n",
            "    https://scikit-learn.org/stable/modules/preprocessing.html\n",
            "Please also refer to the documentation for alternative solver options:\n",
            "    https://scikit-learn.org/stable/modules/linear_model.html#logistic-regression\n",
            "  n_iter_i = _check_optimize_result(\n"
          ]
        },
        {
          "output_type": "stream",
          "name": "stdout",
          "text": [
            "+---------------------+--------------------+\n",
            "|      algorithms     |      accuracy      |\n",
            "+---------------------+--------------------+\n",
            "|         SVM         | 0.956140350877193  |\n",
            "| Logistic Regression | 0.9473684210526315 |\n",
            "|         kNN         | 0.9210526315789473 |\n",
            "|    decision tree    | 0.9385964912280702 |\n",
            "+---------------------+--------------------+\n",
            "+---------------------+--------------------+\n",
            "|      algorithms     |     precision      |\n",
            "+---------------------+--------------------+\n",
            "|         SVM         | 0.9675324675324675 |\n",
            "| Logistic Regression | 0.9479729729729729 |\n",
            "|         kNN         | 0.9215384615384616 |\n",
            "|    decision tree    | 0.941025641025641  |\n",
            "+---------------------+--------------------+\n",
            "+---------------------+--------------------+\n",
            "|      algorithms     |       recall       |\n",
            "+---------------------+--------------------+\n",
            "|         SVM         | 0.9404761904761905 |\n",
            "| Logistic Regression | 0.9384920634920635 |\n",
            "|         kNN         | 0.9077380952380952 |\n",
            "|    decision tree    | 0.9265873015873016 |\n",
            "+---------------------+--------------------+\n",
            "+---------------------+--------------------+\n",
            "|      algorithms     |         f1         |\n",
            "+---------------------+--------------------+\n",
            "|         SVM         | 0.951575906889814  |\n",
            "| Logistic Regression | 0.942866688940862  |\n",
            "|         kNN         | 0.9138321995464853 |\n",
            "|    decision tree    | 0.9329805996472663 |\n",
            "+---------------------+--------------------+\n"
          ]
        }
      ]
    },
    {
      "cell_type": "markdown",
      "source": [
        "#Task 2. \n",
        "\n",
        "*   1.1.\tPerform SVM algorithm to **Iris dataset** using **linear kernel**.\n",
        "*   1.2.\tCompare the obtained results in 1.1 with SVM using other kernels (**Polynomial Kernel, Gaussian Kernel, Sigmoid Kernel, Radial Basis Function Kernel**). Some metrics could be used: accuracy, precision, recall, f1 measures\n",
        "\n",
        "\n",
        "\n"
      ],
      "metadata": {
        "id": "S43IoUT-0OQq"
      }
    },
    {
      "cell_type": "code",
      "source": [
        "# code\n",
        "iris = datasets.load_iris()\n",
        "X2 = iris.data\n",
        "Y2 = iris.target\n",
        "X_train, X_test, y_train, y_test = train_test_split(X2, Y2, test_size = 0.4, shuffle=True, random_state = 1)\n",
        "\n",
        "clf = svm.SVC(kernel='linear') \n",
        "clf.fit(X_train, y_train)\n",
        "y_pred = clf.predict(X_test)\n",
        "\n",
        "clf2 = svm.SVC(kernel='poly', degree=5) \n",
        "clf2.fit(X_train, y_train)\n",
        "y_pred2 = clf.predict(X_test)\n",
        "\n",
        "clf3 = svm.SVC(kernel='sigmoid', degree=8) \n",
        "clf3.fit(X_train, y_train)\n",
        "y_pred3 = clf.predict(X_test)\n",
        "\n",
        "clf4 = svm.SVC(gamma=0.1) \n",
        "clf4.fit(X_train, y_train)\n",
        "y_pred4 = clf.predict(X_test)\n",
        "\n",
        "t = PrettyTable(['kernel','accuracy'])\n",
        "t.add_row(['linear',accuracy_score(y_test, y_pred)])\n",
        "t.add_row(['poly',accuracy_score(y_test, y_pred2)])\n",
        "t.add_row(['sigmoid',accuracy_score(y_test, y_pred3)])\n",
        "t.add_row(['rbf',accuracy_score(y_test, y_pred4)])\n",
        "print(t)\n",
        "\n",
        "t = PrettyTable(['kernel','precision'])\n",
        "t.add_row(['linear',metrics.precision_score(y_test, y_pred, average='macro')])\n",
        "t.add_row(['poly',metrics.precision_score(y_test, y_pred2, average='macro')])\n",
        "t.add_row(['sigmoid',metrics.precision_score(y_test, y_pred3, average='macro')])\n",
        "t.add_row(['rbf',metrics.precision_score(y_test, y_pred4, average='macro')])\n",
        "print(t)\n",
        "\n",
        "t = PrettyTable(['kernel','recall'])\n",
        "t.add_row(['linear',metrics.recall_score(y_test, y_pred, average='macro')])\n",
        "t.add_row(['poly',metrics.recall_score(y_test, y_pred2, average='macro')])\n",
        "t.add_row(['sigmoid',metrics.recall_score(y_test, y_pred3, average='macro')])\n",
        "t.add_row(['rbf',metrics.recall_score(y_test, y_pred4, average='macro')])\n",
        "print(t)\n",
        "\n",
        "t = PrettyTable(['kernel','f1'])\n",
        "t.add_row(['linear',metrics.f1_score(y_test, y_pred, average='macro')])\n",
        "t.add_row(['poly',metrics.f1_score(y_test, y_pred2, average='macro')])\n",
        "t.add_row(['sigmoid',metrics.f1_score(y_test, y_pred3, average='macro')])\n",
        "t.add_row(['rbf',metrics.f1_score(y_test, y_pred4, average='macro')])\n",
        "print(t)\n"
      ],
      "metadata": {
        "id": "_xhPpF5b033h",
        "colab": {
          "base_uri": "https://localhost:8080/"
        },
        "outputId": "7221d8ed-ab99-4f5d-fef4-956f0c4733de"
      },
      "execution_count": 4,
      "outputs": [
        {
          "output_type": "stream",
          "name": "stdout",
          "text": [
            "+---------+--------------------+\n",
            "|  kernel |      accuracy      |\n",
            "+---------+--------------------+\n",
            "|  linear | 0.9833333333333333 |\n",
            "|   poly  | 0.9833333333333333 |\n",
            "| sigmoid | 0.9833333333333333 |\n",
            "|   rbf   | 0.9833333333333333 |\n",
            "+---------+--------------------+\n",
            "+---------+--------------------+\n",
            "|  kernel |     precision      |\n",
            "+---------+--------------------+\n",
            "|  linear | 0.9841269841269842 |\n",
            "|   poly  | 0.9841269841269842 |\n",
            "| sigmoid | 0.9841269841269842 |\n",
            "|   rbf   | 0.9841269841269842 |\n",
            "+---------+--------------------+\n",
            "+---------+--------------------+\n",
            "|  kernel |       recall       |\n",
            "+---------+--------------------+\n",
            "|  linear | 0.9841269841269842 |\n",
            "|   poly  | 0.9841269841269842 |\n",
            "| sigmoid | 0.9841269841269842 |\n",
            "|   rbf   | 0.9841269841269842 |\n",
            "+---------+--------------------+\n",
            "+---------+-------------------+\n",
            "|  kernel |         f1        |\n",
            "+---------+-------------------+\n",
            "|  linear | 0.983739837398374 |\n",
            "|   poly  | 0.983739837398374 |\n",
            "| sigmoid | 0.983739837398374 |\n",
            "|   rbf   | 0.983739837398374 |\n",
            "+---------+-------------------+\n"
          ]
        }
      ]
    },
    {
      "cell_type": "markdown",
      "source": [
        "#Task 3. \n",
        "Compare the performance of selected classification algorithms (Decision Tree, kNN, Logistic Regression) and SVM (using different kernels) with mnist dataset based on accuracy, precision, recall, f1 measures.\n"
      ],
      "metadata": {
        "id": "b52OPWPD2afi"
      }
    },
    {
      "cell_type": "code",
      "source": [
        "#code\n",
        "mnist = datasets.load_digits()\n",
        "X = mnist.data\n",
        "Y = mnist.target\n",
        "X_train, X_test, y_train, y_test = train_test_split(X, Y, test_size = 0.4, shuffle=True, random_state = 1)\n",
        "\n",
        "classifier = LogisticRegression(random_state = 0) \n",
        "classifier.fit(X_train, y_train)\n",
        "y_pred = classifier.predict(X_test)\n",
        "\n",
        "model = KNeighborsClassifier(n_neighbors=3)\n",
        "model.fit(X_train,y_train)\n",
        "y_pred2 = model.predict(X_test)\n",
        "\n",
        "dtc = DecisionTreeClassifier(random_state=0)\n",
        "dtc.fit(X_train, y_train)\n",
        "y_pred3 = dtc.predict(X_test)\n",
        "\n",
        "clf = svm.SVC(kernel='linear') \n",
        "clf.fit(X_train, y_train)\n",
        "y_pred4 = clf.predict(X_test)\n",
        "\n",
        "clf2 = svm.SVC(kernel='poly', degree=5) \n",
        "clf2.fit(X_train, y_train)\n",
        "y_pred5 = clf.predict(X_test)\n",
        "\n",
        "clf3 = svm.SVC(kernel='sigmoid', degree=8) \n",
        "clf3.fit(X_train, y_train)\n",
        "y_pred6 = clf.predict(X_test)\n",
        "\n",
        "clf4 = svm.SVC(gamma=0.1) \n",
        "clf4.fit(X_train, y_train)\n",
        "y_pred7 = clf.predict(X_test)\n",
        "\n",
        "t = PrettyTable(['algorithsm','accuracy','precision','recall','f1'])\n",
        "t.add_row(['LogisticRegression', accuracy_score(y_test, y_pred),metrics.precision_score(y_test, y_pred, average='macro'), metrics.recall_score(y_test, y_pred, average='macro'), metrics.f1_score(y_test, y_pred, average='macro')])\n",
        "t.add_row(['kNN', accuracy_score(y_test, y_pred2),metrics.precision_score(y_test, y_pred2, average='macro'), metrics.recall_score(y_test, y_pred2, average='macro'), metrics.f1_score(y_test, y_pred2, average='macro')])\n",
        "t.add_row(['Decision tree', accuracy_score(y_test, y_pred3),metrics.precision_score(y_test, y_pred3, average='macro'), metrics.recall_score(y_test, y_pred3, average='macro'), metrics.f1_score(y_test, y_pred3, average='macro')])\n",
        "t.add_row(['SVM linear', accuracy_score(y_test, y_pred4),metrics.precision_score(y_test, y_pred4, average='macro'), metrics.recall_score(y_test, y_pred4, average='macro'), metrics.f1_score(y_test, y_pred4, average='macro')])\n",
        "t.add_row(['SVM poly', accuracy_score(y_test, y_pred5),metrics.precision_score(y_test, y_pred5, average='macro'), metrics.recall_score(y_test, y_pred5, average='macro'), metrics.f1_score(y_test, y_pred5, average='macro')])\n",
        "t.add_row(['SVM sigmoid', accuracy_score(y_test, y_pred6),metrics.precision_score(y_test, y_pred6, average='macro'), metrics.recall_score(y_test, y_pred6, average='macro'), metrics.f1_score(y_test, y_pred6, average='macro')])\n",
        "t.add_row(['SVM rbf', accuracy_score(y_test, y_pred7),metrics.precision_score(y_test, y_pred7, average='macro'), metrics.recall_score(y_test, y_pred7, average='macro'), metrics.f1_score(y_test, y_pred7, average='macro')])\n",
        "print(t)"
      ],
      "metadata": {
        "colab": {
          "base_uri": "https://localhost:8080/"
        },
        "id": "0weNVBPmWieJ",
        "outputId": "f48deec0-9304-445a-c8f4-6a2c19eb4c82"
      },
      "execution_count": 5,
      "outputs": [
        {
          "output_type": "stream",
          "name": "stderr",
          "text": [
            "/usr/local/lib/python3.9/dist-packages/sklearn/linear_model/_logistic.py:458: ConvergenceWarning: lbfgs failed to converge (status=1):\n",
            "STOP: TOTAL NO. of ITERATIONS REACHED LIMIT.\n",
            "\n",
            "Increase the number of iterations (max_iter) or scale the data as shown in:\n",
            "    https://scikit-learn.org/stable/modules/preprocessing.html\n",
            "Please also refer to the documentation for alternative solver options:\n",
            "    https://scikit-learn.org/stable/modules/linear_model.html#logistic-regression\n",
            "  n_iter_i = _check_optimize_result(\n"
          ]
        },
        {
          "output_type": "stream",
          "name": "stdout",
          "text": [
            "+--------------------+--------------------+--------------------+--------------------+--------------------+\n",
            "|     algorithsm     |      accuracy      |     precision      |       recall       |         f1         |\n",
            "+--------------------+--------------------+--------------------+--------------------+--------------------+\n",
            "| LogisticRegression | 0.9652294853963839 | 0.964351553087772  | 0.9651110935468535 | 0.9643744477361669 |\n",
            "|        kNN         | 0.9833101529902643 | 0.9831996797809543 | 0.9831594375424564 | 0.9830585038918691 |\n",
            "|   Decision tree    | 0.847009735744089  | 0.8476092366718342 | 0.8485411324874363 | 0.8467864325664038 |\n",
            "|     SVM linear     | 0.9749652294853964 | 0.9738789023917679 | 0.9747061443555717 | 0.974048545532737  |\n",
            "|      SVM poly      | 0.9749652294853964 | 0.9738789023917679 | 0.9747061443555717 | 0.974048545532737  |\n",
            "|    SVM sigmoid     | 0.9749652294853964 | 0.9738789023917679 | 0.9747061443555717 | 0.974048545532737  |\n",
            "|      SVM rbf       | 0.9749652294853964 | 0.9738789023917679 | 0.9747061443555717 | 0.974048545532737  |\n",
            "+--------------------+--------------------+--------------------+--------------------+--------------------+\n"
          ]
        }
      ]
    },
    {
      "cell_type": "markdown",
      "source": [
        "#Task 4. \n",
        "Compare the performance of selected classification algorithms (Decision Tree, kNN, Logistic Regression) and SVM (using different kernels) with **credit card dataset** based on accuracy, precision, recall, f1 measures.\n",
        "\n",
        "*   Give some comments on the obtained results\n",
        "*   Identify issues with dataset, and propose the solutions to these issues\n",
        "\n"
      ],
      "metadata": {
        "id": "Z5pp7_h-aP2u"
      }
    },
    {
      "cell_type": "code",
      "source": [
        "# code\n",
        "df = pd.read_csv(\"creditcard.csv\")\n",
        "X = df.iloc[:, 1:30]\n",
        "Y = df['Class']\n",
        "X_train, X_test, y_train, y_test = train_test_split(X, Y, test_size = 0.001, train_size = 0.005, shuffle=True, random_state = 1)\n",
        "\n",
        "classifier = LogisticRegression(random_state = 0) \n",
        "classifier.fit(X_train, y_train)\n",
        "y_pred = classifier.predict(X_test)\n",
        "\n",
        "model = KNeighborsClassifier(n_neighbors=3)\n",
        "model.fit(X_train,y_train)\n",
        "y_pred2 = model.predict(X_test)\n",
        "\n",
        "dtc = DecisionTreeClassifier(random_state=0)\n",
        "dtc.fit(X_train, y_train)\n",
        "y_pred3 = dtc.predict(X_test)\n",
        "\n",
        "clf = svm.SVC(kernel='linear') \n",
        "clf.fit(X_train, y_train)\n",
        "y_pred4 = clf.predict(X_test)\n",
        "\n",
        "clf2 = svm.SVC(kernel='poly', degree=5) \n",
        "clf2.fit(X_train, y_train)\n",
        "y_pred5 = clf.predict(X_test)\n",
        "\n",
        "clf3 = svm.SVC(kernel='sigmoid', degree=8) \n",
        "clf3.fit(X_train, y_train)\n",
        "y_pred6 = clf.predict(X_test)\n",
        "\n",
        "clf4 = svm.SVC(gamma=0.1) \n",
        "clf4.fit(X_train, y_train)\n",
        "y_pred7 = clf.predict(X_test)\n",
        "\n",
        "t = PrettyTable(['algorithsm','accuracy','precision','recall','f1'])\n",
        "t.add_row(['LogisticRegression', accuracy_score(y_test, y_pred),metrics.precision_score(y_test, y_pred, average='macro'), metrics.recall_score(y_test, y_pred, average='macro'), metrics.f1_score(y_test, y_pred, average='macro')])\n",
        "t.add_row(['kNN', accuracy_score(y_test, y_pred2),metrics.precision_score(y_test, y_pred2, average='macro'), metrics.recall_score(y_test, y_pred2, average='macro'), metrics.f1_score(y_test, y_pred2, average='macro')])\n",
        "t.add_row(['Decision tree', accuracy_score(y_test, y_pred3),metrics.precision_score(y_test, y_pred3, average='macro'), metrics.recall_score(y_test, y_pred3, average='macro'), metrics.f1_score(y_test, y_pred3, average='macro')])\n",
        "t.add_row(['SVM linear', accuracy_score(y_test, y_pred4),metrics.precision_score(y_test, y_pred4, average='macro'), metrics.recall_score(y_test, y_pred4, average='macro'), metrics.f1_score(y_test, y_pred4, average='macro')])\n",
        "t.add_row(['SVM poly', accuracy_score(y_test, y_pred5),metrics.precision_score(y_test, y_pred5, average='macro'), metrics.recall_score(y_test, y_pred5, average='macro'), metrics.f1_score(y_test, y_pred5, average='macro')])\n",
        "t.add_row(['SVM sigmoid', accuracy_score(y_test, y_pred6),metrics.precision_score(y_test, y_pred6, average='macro'), metrics.recall_score(y_test, y_pred6, average='macro'), metrics.f1_score(y_test, y_pred6, average='macro')])\n",
        "t.add_row(['SVM rbf', accuracy_score(y_test, y_pred7),metrics.precision_score(y_test, y_pred7, average='macro'), metrics.recall_score(y_test, y_pred7, average='macro'), metrics.f1_score(y_test, y_pred7, average='macro')])\n",
        "print(t)"
      ],
      "metadata": {
        "id": "Rw_-8FIf2KxW",
        "colab": {
          "base_uri": "https://localhost:8080/"
        },
        "outputId": "23f958bd-2b92-47e9-efdd-ab1ddb160466"
      },
      "execution_count": 7,
      "outputs": [
        {
          "output_type": "stream",
          "name": "stderr",
          "text": [
            "/usr/local/lib/python3.9/dist-packages/sklearn/linear_model/_logistic.py:458: ConvergenceWarning: lbfgs failed to converge (status=1):\n",
            "STOP: TOTAL NO. of ITERATIONS REACHED LIMIT.\n",
            "\n",
            "Increase the number of iterations (max_iter) or scale the data as shown in:\n",
            "    https://scikit-learn.org/stable/modules/preprocessing.html\n",
            "Please also refer to the documentation for alternative solver options:\n",
            "    https://scikit-learn.org/stable/modules/linear_model.html#logistic-regression\n",
            "  n_iter_i = _check_optimize_result(\n"
          ]
        },
        {
          "output_type": "stream",
          "name": "stdout",
          "text": [
            "+--------------------+--------------------+--------------------+--------------------+--------------------+\n",
            "|     algorithsm     |      accuracy      |     precision      |       recall       |         f1         |\n",
            "+--------------------+--------------------+--------------------+--------------------+--------------------+\n",
            "| LogisticRegression | 0.9964912280701754 | 0.4982456140350877 |        0.5         | 0.4991212653778559 |\n",
            "|        kNN         | 0.9964912280701754 | 0.4982456140350877 |        0.5         | 0.4991212653778559 |\n",
            "|   Decision tree    |        1.0         |        1.0         |        1.0         |        1.0         |\n",
            "|     SVM linear     | 0.9929824561403509 | 0.4982394366197183 | 0.4982394366197183 | 0.4982394366197183 |\n",
            "|      SVM poly      | 0.9929824561403509 | 0.4982394366197183 | 0.4982394366197183 | 0.4982394366197183 |\n",
            "|    SVM sigmoid     | 0.9929824561403509 | 0.4982394366197183 | 0.4982394366197183 | 0.4982394366197183 |\n",
            "|      SVM rbf       | 0.9929824561403509 | 0.4982394366197183 | 0.4982394366197183 | 0.4982394366197183 |\n",
            "+--------------------+--------------------+--------------------+--------------------+--------------------+\n"
          ]
        },
        {
          "output_type": "stream",
          "name": "stderr",
          "text": [
            "/usr/local/lib/python3.9/dist-packages/sklearn/metrics/_classification.py:1344: UndefinedMetricWarning: Precision is ill-defined and being set to 0.0 in labels with no predicted samples. Use `zero_division` parameter to control this behavior.\n",
            "  _warn_prf(average, modifier, msg_start, len(result))\n",
            "/usr/local/lib/python3.9/dist-packages/sklearn/metrics/_classification.py:1344: UndefinedMetricWarning: Precision is ill-defined and being set to 0.0 in labels with no predicted samples. Use `zero_division` parameter to control this behavior.\n",
            "  _warn_prf(average, modifier, msg_start, len(result))\n"
          ]
        }
      ]
    },
    {
      "cell_type": "markdown",
      "source": [
        "#Finally,\n",
        "Save a copy in your Github. Remember renaming the notebook."
      ],
      "metadata": {
        "id": "Ok7RGkea_b7n"
      }
    }
  ]
}